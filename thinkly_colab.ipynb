{
  "cells": [
    {
      "cell_type": "code",
      "execution_count": null,
      "metadata": {
        "vscode": {
          "languageId": "plaintext"
        }
      },
      "outputs": [],
      "source": [
        "# Thinkly AI - O'zbek tilidagi dasturlash assistenti\n",
        "\n",
        "Ushbu notebook Thinkly AI modelini o'qitish uchun kerakli barcha bosqichlarni o'z ichiga oladi.\n"
      ]
    },
    {
      "cell_type": "code",
      "execution_count": null,
      "metadata": {
        "vscode": {
          "languageId": "plaintext"
        }
      },
      "outputs": [],
      "source": [
        "## 1. Muhitni tayyorlash\n",
        "\n",
        "Avval Google Drive'ni ulash va kerakli kutubxonalarni o'rnatish kerak.\n"
      ]
    },
    {
      "cell_type": "code",
      "execution_count": null,
      "metadata": {},
      "outputs": [],
      "source": [
        "# Google Drive'ni ulash\n",
        "from google.colab import drive\n",
        "drive.mount('/content/drive')\n"
      ]
    },
    {
      "cell_type": "code",
      "execution_count": null,
      "metadata": {},
      "outputs": [],
      "source": [
        "# GitHub'dan loyihani yuklab olish\n",
        "!git clone https://github.com/UzbekApis/thinkly_project.git\n",
        "%cd thinkly_project\n"
      ]
    },
    {
      "cell_type": "code",
      "execution_count": null,
      "metadata": {},
      "outputs": [],
      "source": [
        "# Muhitni tayyorlash\n",
        "!python 1_environment_setup.py\n"
      ]
    },
    {
      "cell_type": "code",
      "execution_count": null,
      "metadata": {},
      "outputs": [],
      "source": [
        "## 2. Dataset tayyorlash\n",
        "\n",
        "O'zbek tili va dasturlash uchun datasetlarni yuklash va tayyorlash.\n"
      ]
    },
    {
      "cell_type": "code",
      "execution_count": null,
      "metadata": {},
      "outputs": [],
      "source": [
        "# Dataset tayyorlash\n",
        "!python 2_dataset_preparation.py\n"
      ]
    },
    {
      "cell_type": "code",
      "execution_count": null,
      "metadata": {},
      "outputs": [],
      "source": [
        "## 3. Model optimizatsiyasi\n",
        "\n",
        "Modelni 4-bit quantization va LoRA bilan optimizatsiya qilish.\n"
      ]
    },
    {
      "cell_type": "code",
      "execution_count": null,
      "metadata": {},
      "outputs": [],
      "source": [
        "# Model optimizatsiyasi\n",
        "!python 3_model_optimization.py\n"
      ]
    },
    {
      "cell_type": "code",
      "execution_count": null,
      "metadata": {},
      "outputs": [],
      "source": [
        "## 4. Model o'qitish\n",
        "\n",
        "Modelni o'qitish uchun ikki xil usul mavjud: oddiy va ko'p sessiyali.\n"
      ]
    },
    {
      "cell_type": "code",
      "execution_count": null,
      "metadata": {},
      "outputs": [],
      "source": [
        "# Oddiy o'qitish (kichik dataset uchun)\n",
        "!python 4_model_training.py\n"
      ]
    },
    {
      "cell_type": "code",
      "execution_count": null,
      "metadata": {},
      "outputs": [],
      "source": [
        "# Ko'p sessiyali o'qitish (katta dataset uchun)\n",
        "# 1-sessiya\n",
        "!python 6_multi_session_training.py --chunk_id=0 --chunks_total=3\n"
      ]
    },
    {
      "cell_type": "code",
      "execution_count": null,
      "metadata": {},
      "outputs": [],
      "source": [
        "### Keyingi sessiyalar uchun\n",
        "\n",
        "Birinchi sessiya tugagandan so'ng, yangi Colab notebook ochib, quyidagi kodlarni ishga tushiring:\n"
      ]
    },
    {
      "cell_type": "code",
      "execution_count": null,
      "metadata": {},
      "outputs": [],
      "source": [
        "# 2-sessiya\n",
        "# Google Drive'ni ulash\n",
        "from google.colab import drive\n",
        "drive.mount('/content/drive')\n",
        "\n",
        "# GitHub'dan loyihani yuklab olish\n",
        "!git clone https://github.com/UzbekApis/thinkly_project.git\n",
        "%cd thinkly_project\n",
        "\n",
        "# 2-sessiya o'qitish\n",
        "!python 6_multi_session_training.py --chunk_id=1 --chunks_total=3 --resume=/content/drive/MyDrive/thinkly_project/checkpoints/chunk_0\n"
      ]
    },
    {
      "cell_type": "code",
      "execution_count": null,
      "metadata": {},
      "outputs": [],
      "source": [
        "# 3-sessiya\n",
        "# Google Drive'ni ulash\n",
        "from google.colab import drive\n",
        "drive.mount('/content/drive')\n",
        "\n",
        "# GitHub'dan loyihani yuklab olish\n",
        "!git clone https://github.com/UzbekApis/thinkly_project.git\n",
        "%cd thinkly_project\n",
        "\n",
        "# 3-sessiya o'qitish\n",
        "!python 6_multi_session_training.py --chunk_id=2 --chunks_total=3 --resume=/content/drive/MyDrive/thinkly_project/checkpoints/chunk_1\n"
      ]
    },
    {
      "cell_type": "code",
      "execution_count": null,
      "metadata": {},
      "outputs": [],
      "source": [
        "## 5. Model test qilish\n",
        "\n",
        "O'qitilgan modelni test qilish.\n"
      ]
    },
    {
      "cell_type": "code",
      "execution_count": null,
      "metadata": {},
      "outputs": [],
      "source": [
        "# Model test qilish\n",
        "!python 5_inference.py\n"
      ]
    }
  ],
  "metadata": {
    "language_info": {
      "name": "python"
    }
  },
  "nbformat": 4,
  "nbformat_minor": 2
}
